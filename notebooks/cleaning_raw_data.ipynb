{
 "cells": [
  {
   "cell_type": "markdown",
   "id": "521af84b-b567-40d9-92ce-d2f0e86c54db",
   "metadata": {},
   "source": [
    "**Importing Modules and Reading Dataset**"
   ]
  },
  {
   "cell_type": "code",
   "execution_count": 2,
   "id": "3140aa81-39a7-4603-b432-d91d5f9ad18b",
   "metadata": {},
   "outputs": [],
   "source": [
    "import pandas as pd\n",
    "\n",
    "# Reading dataset\n",
    "df = pd.read_csv(\"AB_NYC_2019.csv\")\n",
    "\n",
    "#Saving uncleaned dataset\n",
    "df.to_csv(\"Uncleaned_Dataset\", index=False)"
   ]
  },
  {
   "cell_type": "markdown",
   "id": "151a366c-9c5d-4ddc-89f8-74002268fb1f",
   "metadata": {},
   "source": [
    "**Overview Information**"
   ]
  },
  {
   "cell_type": "code",
   "execution_count": 4,
   "id": "8ac5ddc5-7385-4ecb-835c-ff7574be2759",
   "metadata": {},
   "outputs": [
    {
     "name": "stdout",
     "output_type": "stream",
     "text": [
      "<class 'pandas.core.frame.DataFrame'>\n",
      "RangeIndex: 48895 entries, 0 to 48894\n",
      "Data columns (total 16 columns):\n",
      " #   Column                          Non-Null Count  Dtype  \n",
      "---  ------                          --------------  -----  \n",
      " 0   id                              48895 non-null  int64  \n",
      " 1   name                            48879 non-null  object \n",
      " 2   host_id                         48895 non-null  int64  \n",
      " 3   host_name                       48874 non-null  object \n",
      " 4   neighbourhood_group             48895 non-null  object \n",
      " 5   neighbourhood                   48895 non-null  object \n",
      " 6   latitude                        48895 non-null  float64\n",
      " 7   longitude                       48895 non-null  float64\n",
      " 8   room_type                       48895 non-null  object \n",
      " 9   price                           48895 non-null  int64  \n",
      " 10  minimum_nights                  48895 non-null  int64  \n",
      " 11  number_of_reviews               48895 non-null  int64  \n",
      " 12  last_review                     38843 non-null  object \n",
      " 13  reviews_per_month               38843 non-null  float64\n",
      " 14  calculated_host_listings_count  48895 non-null  int64  \n",
      " 15  availability_365                48895 non-null  int64  \n",
      "dtypes: float64(3), int64(7), object(6)\n",
      "memory usage: 6.0+ MB\n"
     ]
    }
   ],
   "source": [
    "df.info()"
   ]
  },
  {
   "cell_type": "code",
   "execution_count": 5,
   "id": "693e74ad-fa33-494e-a901-938df1a30ff3",
   "metadata": {},
   "outputs": [
    {
     "data": {
      "text/html": [
       "<div>\n",
       "<style scoped>\n",
       "    .dataframe tbody tr th:only-of-type {\n",
       "        vertical-align: middle;\n",
       "    }\n",
       "\n",
       "    .dataframe tbody tr th {\n",
       "        vertical-align: top;\n",
       "    }\n",
       "\n",
       "    .dataframe thead th {\n",
       "        text-align: right;\n",
       "    }\n",
       "</style>\n",
       "<table border=\"1\" class=\"dataframe\">\n",
       "  <thead>\n",
       "    <tr style=\"text-align: right;\">\n",
       "      <th></th>\n",
       "      <th>id</th>\n",
       "      <th>host_id</th>\n",
       "      <th>latitude</th>\n",
       "      <th>longitude</th>\n",
       "      <th>price</th>\n",
       "      <th>minimum_nights</th>\n",
       "      <th>number_of_reviews</th>\n",
       "      <th>reviews_per_month</th>\n",
       "      <th>calculated_host_listings_count</th>\n",
       "      <th>availability_365</th>\n",
       "    </tr>\n",
       "  </thead>\n",
       "  <tbody>\n",
       "    <tr>\n",
       "      <th>count</th>\n",
       "      <td>4.889500e+04</td>\n",
       "      <td>4.889500e+04</td>\n",
       "      <td>48895.000000</td>\n",
       "      <td>48895.000000</td>\n",
       "      <td>48895.000000</td>\n",
       "      <td>48895.000000</td>\n",
       "      <td>48895.000000</td>\n",
       "      <td>38843.000000</td>\n",
       "      <td>48895.000000</td>\n",
       "      <td>48895.000000</td>\n",
       "    </tr>\n",
       "    <tr>\n",
       "      <th>mean</th>\n",
       "      <td>1.901714e+07</td>\n",
       "      <td>6.762001e+07</td>\n",
       "      <td>40.728949</td>\n",
       "      <td>-73.952170</td>\n",
       "      <td>152.720687</td>\n",
       "      <td>7.029962</td>\n",
       "      <td>23.274466</td>\n",
       "      <td>1.373221</td>\n",
       "      <td>7.143982</td>\n",
       "      <td>112.781327</td>\n",
       "    </tr>\n",
       "    <tr>\n",
       "      <th>std</th>\n",
       "      <td>1.098311e+07</td>\n",
       "      <td>7.861097e+07</td>\n",
       "      <td>0.054530</td>\n",
       "      <td>0.046157</td>\n",
       "      <td>240.154170</td>\n",
       "      <td>20.510550</td>\n",
       "      <td>44.550582</td>\n",
       "      <td>1.680442</td>\n",
       "      <td>32.952519</td>\n",
       "      <td>131.622289</td>\n",
       "    </tr>\n",
       "    <tr>\n",
       "      <th>min</th>\n",
       "      <td>2.539000e+03</td>\n",
       "      <td>2.438000e+03</td>\n",
       "      <td>40.499790</td>\n",
       "      <td>-74.244420</td>\n",
       "      <td>0.000000</td>\n",
       "      <td>1.000000</td>\n",
       "      <td>0.000000</td>\n",
       "      <td>0.010000</td>\n",
       "      <td>1.000000</td>\n",
       "      <td>0.000000</td>\n",
       "    </tr>\n",
       "    <tr>\n",
       "      <th>25%</th>\n",
       "      <td>9.471945e+06</td>\n",
       "      <td>7.822033e+06</td>\n",
       "      <td>40.690100</td>\n",
       "      <td>-73.983070</td>\n",
       "      <td>69.000000</td>\n",
       "      <td>1.000000</td>\n",
       "      <td>1.000000</td>\n",
       "      <td>0.190000</td>\n",
       "      <td>1.000000</td>\n",
       "      <td>0.000000</td>\n",
       "    </tr>\n",
       "    <tr>\n",
       "      <th>50%</th>\n",
       "      <td>1.967728e+07</td>\n",
       "      <td>3.079382e+07</td>\n",
       "      <td>40.723070</td>\n",
       "      <td>-73.955680</td>\n",
       "      <td>106.000000</td>\n",
       "      <td>3.000000</td>\n",
       "      <td>5.000000</td>\n",
       "      <td>0.720000</td>\n",
       "      <td>1.000000</td>\n",
       "      <td>45.000000</td>\n",
       "    </tr>\n",
       "    <tr>\n",
       "      <th>75%</th>\n",
       "      <td>2.915218e+07</td>\n",
       "      <td>1.074344e+08</td>\n",
       "      <td>40.763115</td>\n",
       "      <td>-73.936275</td>\n",
       "      <td>175.000000</td>\n",
       "      <td>5.000000</td>\n",
       "      <td>24.000000</td>\n",
       "      <td>2.020000</td>\n",
       "      <td>2.000000</td>\n",
       "      <td>227.000000</td>\n",
       "    </tr>\n",
       "    <tr>\n",
       "      <th>max</th>\n",
       "      <td>3.648724e+07</td>\n",
       "      <td>2.743213e+08</td>\n",
       "      <td>40.913060</td>\n",
       "      <td>-73.712990</td>\n",
       "      <td>10000.000000</td>\n",
       "      <td>1250.000000</td>\n",
       "      <td>629.000000</td>\n",
       "      <td>58.500000</td>\n",
       "      <td>327.000000</td>\n",
       "      <td>365.000000</td>\n",
       "    </tr>\n",
       "  </tbody>\n",
       "</table>\n",
       "</div>"
      ],
      "text/plain": [
       "                 id       host_id      latitude     longitude         price  \\\n",
       "count  4.889500e+04  4.889500e+04  48895.000000  48895.000000  48895.000000   \n",
       "mean   1.901714e+07  6.762001e+07     40.728949    -73.952170    152.720687   \n",
       "std    1.098311e+07  7.861097e+07      0.054530      0.046157    240.154170   \n",
       "min    2.539000e+03  2.438000e+03     40.499790    -74.244420      0.000000   \n",
       "25%    9.471945e+06  7.822033e+06     40.690100    -73.983070     69.000000   \n",
       "50%    1.967728e+07  3.079382e+07     40.723070    -73.955680    106.000000   \n",
       "75%    2.915218e+07  1.074344e+08     40.763115    -73.936275    175.000000   \n",
       "max    3.648724e+07  2.743213e+08     40.913060    -73.712990  10000.000000   \n",
       "\n",
       "       minimum_nights  number_of_reviews  reviews_per_month  \\\n",
       "count    48895.000000       48895.000000       38843.000000   \n",
       "mean         7.029962          23.274466           1.373221   \n",
       "std         20.510550          44.550582           1.680442   \n",
       "min          1.000000           0.000000           0.010000   \n",
       "25%          1.000000           1.000000           0.190000   \n",
       "50%          3.000000           5.000000           0.720000   \n",
       "75%          5.000000          24.000000           2.020000   \n",
       "max       1250.000000         629.000000          58.500000   \n",
       "\n",
       "       calculated_host_listings_count  availability_365  \n",
       "count                    48895.000000      48895.000000  \n",
       "mean                         7.143982        112.781327  \n",
       "std                         32.952519        131.622289  \n",
       "min                          1.000000          0.000000  \n",
       "25%                          1.000000          0.000000  \n",
       "50%                          1.000000         45.000000  \n",
       "75%                          2.000000        227.000000  \n",
       "max                        327.000000        365.000000  "
      ]
     },
     "execution_count": 5,
     "metadata": {},
     "output_type": "execute_result"
    }
   ],
   "source": [
    "df.describe()"
   ]
  },
  {
   "cell_type": "code",
   "execution_count": 6,
   "id": "2b595011-6305-48d4-8b4a-685bb63cb9bc",
   "metadata": {},
   "outputs": [
    {
     "data": {
      "text/plain": [
       "Index(['id', 'name', 'host_id', 'host_name', 'neighbourhood_group',\n",
       "       'neighbourhood', 'latitude', 'longitude', 'room_type', 'price',\n",
       "       'minimum_nights', 'number_of_reviews', 'last_review',\n",
       "       'reviews_per_month', 'calculated_host_listings_count',\n",
       "       'availability_365'],\n",
       "      dtype='object')"
      ]
     },
     "execution_count": 6,
     "metadata": {},
     "output_type": "execute_result"
    }
   ],
   "source": [
    "df.columns"
   ]
  },
  {
   "cell_type": "markdown",
   "id": "bb4e7a66-ce7d-4c4a-a8a7-91b48f48dfe6",
   "metadata": {},
   "source": [
    "**Dropping and Categorzing Columns**"
   ]
  },
  {
   "cell_type": "code",
   "execution_count": 8,
   "id": "ffbf1bb3-da12-426b-874f-0c41ca6af12a",
   "metadata": {},
   "outputs": [],
   "source": [
    "# Drop nonessential columns\n",
    "df.drop(columns=[\"reviews_per_month\", \"last_review\"], inplace=True)"
   ]
  },
  {
   "cell_type": "code",
   "execution_count": 9,
   "id": "98dd08fa-2940-42ee-a016-0bcf92655c6f",
   "metadata": {},
   "outputs": [],
   "source": [
    "# Categorizing appropriate columns for organization\n",
    "df[\"room_type\"] = df[\"room_type\"].astype(\"category\")\n",
    "df[\"neighbourhood_group\"] = df[\"neighbourhood_group\"].astype(\"category\")\n",
    "df[\"neighbourhood\"] = df[\"neighbourhood\"].astype(\"category\")"
   ]
  },
  {
   "cell_type": "markdown",
   "id": "4c9cf3fa-b177-4c92-bbba-6c3f347f5f1f",
   "metadata": {},
   "source": [
    "**Handling Missing Values and Duplicates**"
   ]
  },
  {
   "cell_type": "code",
   "execution_count": 11,
   "id": "64c0ee44-7c56-46b0-95eb-052d7ce6dc74",
   "metadata": {},
   "outputs": [
    {
     "data": {
      "text/plain": [
       "id                                 0\n",
       "name                              16\n",
       "host_id                            0\n",
       "host_name                         21\n",
       "neighbourhood_group                0\n",
       "neighbourhood                      0\n",
       "latitude                           0\n",
       "longitude                          0\n",
       "room_type                          0\n",
       "price                              0\n",
       "minimum_nights                     0\n",
       "number_of_reviews                  0\n",
       "calculated_host_listings_count     0\n",
       "availability_365                   0\n",
       "dtype: int64"
      ]
     },
     "execution_count": 11,
     "metadata": {},
     "output_type": "execute_result"
    }
   ],
   "source": [
    "df.isnull().sum()"
   ]
  },
  {
   "cell_type": "code",
   "execution_count": 12,
   "id": "604d4955-768e-449b-9c1c-992813875d0c",
   "metadata": {},
   "outputs": [],
   "source": [
    "# Drop missing listing/host names since a low amount\n",
    "df.dropna(subset=\"name\", inplace=True)\n",
    "df.dropna(subset=\"host_name\", inplace=True)"
   ]
  },
  {
   "cell_type": "code",
   "execution_count": 13,
   "id": "713a8fe4-6874-497d-84b9-11bdcd0407b5",
   "metadata": {},
   "outputs": [],
   "source": [
    "# Checking if duplicates in unique booking ids\n",
    "df = df.drop_duplicates(subset=[\"id\"])"
   ]
  },
  {
   "cell_type": "code",
   "execution_count": 14,
   "id": "802efa70-f4c3-4824-a977-3bb92eee732c",
   "metadata": {},
   "outputs": [
    {
     "name": "stdout",
     "output_type": "stream",
     "text": [
      "Unique.\n"
     ]
    }
   ],
   "source": [
    "# Checking if theres multiple hosts under same the unique host id\n",
    "unique_host_names = df.groupby(\"host_id\")[\"host_name\"].nunique()\n",
    "if (unique_host_names > 1).any():\n",
    "    print(\"Multiple hosts\")\n",
    "else:\n",
    "    print(\"Unique.\")"
   ]
  },
  {
   "cell_type": "code",
   "execution_count": 15,
   "id": "3fd8eaab-de78-43f0-824d-64c68d9531d5",
   "metadata": {},
   "outputs": [
    {
     "data": {
      "text/plain": [
       "id                                0\n",
       "name                              0\n",
       "host_id                           0\n",
       "host_name                         0\n",
       "neighbourhood_group               0\n",
       "neighbourhood                     0\n",
       "latitude                          0\n",
       "longitude                         0\n",
       "room_type                         0\n",
       "price                             0\n",
       "minimum_nights                    0\n",
       "number_of_reviews                 0\n",
       "calculated_host_listings_count    0\n",
       "availability_365                  0\n",
       "dtype: int64"
      ]
     },
     "execution_count": 15,
     "metadata": {},
     "output_type": "execute_result"
    }
   ],
   "source": [
    "df.isnull().sum()"
   ]
  },
  {
   "cell_type": "markdown",
   "id": "267111e8-135a-4bb5-bf36-5676db416a00",
   "metadata": {},
   "source": [
    "**Cleaning Host and Listing Names for User Readability**"
   ]
  },
  {
   "cell_type": "code",
   "execution_count": 17,
   "id": "f51a12b9-ac30-4bc6-88c1-d20bdcefe4ff",
   "metadata": {},
   "outputs": [],
   "source": [
    "# Cleaning host names\n",
    "df[\"host_name\"] = (\n",
    "    df[\"host_name\"]\n",
    "    .str.strip()\n",
    "    .str.title()\n",
    "    .str.replace(r\"[^a-zA-Z0-9 '&-]\", '', regex=True)\n",
    ")"
   ]
  },
  {
   "cell_type": "code",
   "execution_count": 18,
   "id": "c54dd069-9037-4e97-a3b0-8b10699b8a27",
   "metadata": {},
   "outputs": [],
   "source": [
    "# Cleaning listing names\n",
    "df[\"name\"] = (\n",
    "    df[\"name\"]\n",
    "    .str.strip()\n",
    "    .str.title()\n",
    "    .str.replace(r\"[^a-zA-Z0-9 '&-]\", '', regex=True)\n",
    "    .str.replace(r'\\s+', ' ', regex=True)\n",
    ")"
   ]
  },
  {
   "cell_type": "markdown",
   "id": "26c8ec81-ac55-4821-ac2f-6bf324496837",
   "metadata": {},
   "source": [
    "**Setting Boundaries for Prices, Availability and Minimum Nights**"
   ]
  },
  {
   "cell_type": "code",
   "execution_count": 20,
   "id": "8469ad90-d12e-4504-9d04-6af61df5f620",
   "metadata": {},
   "outputs": [],
   "source": [
    "# Removing listings less than $1 and greater than $10,000\n",
    "df = df[(df[\"price\"] >= 1) & (df[\"price\"] <= 10000)]"
   ]
  },
  {
   "cell_type": "code",
   "execution_count": 21,
   "id": "5457d44a-9a84-40ec-af05-1cc9da21ca3d",
   "metadata": {},
   "outputs": [],
   "source": [
    "# Removing listings with no availability\n",
    "df = df[(df[\"availability_365\"] >= 1) & (df[\"availability_365\"] <= 365)]"
   ]
  },
  {
   "cell_type": "code",
   "execution_count": 22,
   "id": "189e3fda-4709-4701-bbd6-b34b61f5fabf",
   "metadata": {},
   "outputs": [],
   "source": [
    "# Removing listings with no minimum nights and minimum nights greater than 365 days\n",
    "df = df[(df[\"minimum_nights\"] >= 1) & (df[\"minimum_nights\"] <= 365)]"
   ]
  },
  {
   "cell_type": "code",
   "execution_count": 23,
   "id": "0b543dc3-981d-4c3e-8a7a-9f55e1924310",
   "metadata": {},
   "outputs": [
    {
     "data": {
      "text/html": [
       "<div>\n",
       "<style scoped>\n",
       "    .dataframe tbody tr th:only-of-type {\n",
       "        vertical-align: middle;\n",
       "    }\n",
       "\n",
       "    .dataframe tbody tr th {\n",
       "        vertical-align: top;\n",
       "    }\n",
       "\n",
       "    .dataframe thead th {\n",
       "        text-align: right;\n",
       "    }\n",
       "</style>\n",
       "<table border=\"1\" class=\"dataframe\">\n",
       "  <thead>\n",
       "    <tr style=\"text-align: right;\">\n",
       "      <th></th>\n",
       "      <th>id</th>\n",
       "      <th>host_id</th>\n",
       "      <th>latitude</th>\n",
       "      <th>longitude</th>\n",
       "      <th>price</th>\n",
       "      <th>minimum_nights</th>\n",
       "      <th>number_of_reviews</th>\n",
       "      <th>calculated_host_listings_count</th>\n",
       "      <th>availability_365</th>\n",
       "    </tr>\n",
       "  </thead>\n",
       "  <tbody>\n",
       "    <tr>\n",
       "      <th>count</th>\n",
       "      <td>3.132900e+04</td>\n",
       "      <td>3.132900e+04</td>\n",
       "      <td>31329.000000</td>\n",
       "      <td>31329.000000</td>\n",
       "      <td>31329.000000</td>\n",
       "      <td>31329.000000</td>\n",
       "      <td>31329.000000</td>\n",
       "      <td>31329.000000</td>\n",
       "      <td>31329.000000</td>\n",
       "    </tr>\n",
       "    <tr>\n",
       "      <th>mean</th>\n",
       "      <td>2.101257e+07</td>\n",
       "      <td>8.148038e+07</td>\n",
       "      <td>40.728407</td>\n",
       "      <td>-73.948753</td>\n",
       "      <td>162.122953</td>\n",
       "      <td>8.044368</td>\n",
       "      <td>31.852820</td>\n",
       "      <td>10.342686</td>\n",
       "      <td>175.754413</td>\n",
       "    </tr>\n",
       "    <tr>\n",
       "      <th>std</th>\n",
       "      <td>1.148577e+07</td>\n",
       "      <td>8.674994e+07</td>\n",
       "      <td>0.056557</td>\n",
       "      <td>0.051402</td>\n",
       "      <td>254.533776</td>\n",
       "      <td>18.308936</td>\n",
       "      <td>51.642146</td>\n",
       "      <td>40.720912</td>\n",
       "      <td>126.166114</td>\n",
       "    </tr>\n",
       "    <tr>\n",
       "      <th>min</th>\n",
       "      <td>2.539000e+03</td>\n",
       "      <td>2.571000e+03</td>\n",
       "      <td>40.499790</td>\n",
       "      <td>-74.244420</td>\n",
       "      <td>10.000000</td>\n",
       "      <td>1.000000</td>\n",
       "      <td>0.000000</td>\n",
       "      <td>1.000000</td>\n",
       "      <td>1.000000</td>\n",
       "    </tr>\n",
       "    <tr>\n",
       "      <th>25%</th>\n",
       "      <td>1.169731e+07</td>\n",
       "      <td>8.620509e+06</td>\n",
       "      <td>40.688400</td>\n",
       "      <td>-73.983280</td>\n",
       "      <td>70.000000</td>\n",
       "      <td>2.000000</td>\n",
       "      <td>2.000000</td>\n",
       "      <td>1.000000</td>\n",
       "      <td>55.000000</td>\n",
       "    </tr>\n",
       "    <tr>\n",
       "      <th>50%</th>\n",
       "      <td>2.257006e+07</td>\n",
       "      <td>4.109936e+07</td>\n",
       "      <td>40.723720</td>\n",
       "      <td>-73.954120</td>\n",
       "      <td>112.000000</td>\n",
       "      <td>3.000000</td>\n",
       "      <td>10.000000</td>\n",
       "      <td>1.000000</td>\n",
       "      <td>167.000000</td>\n",
       "    </tr>\n",
       "    <tr>\n",
       "      <th>75%</th>\n",
       "      <td>3.120348e+07</td>\n",
       "      <td>1.452412e+08</td>\n",
       "      <td>40.763040</td>\n",
       "      <td>-73.930150</td>\n",
       "      <td>189.000000</td>\n",
       "      <td>5.000000</td>\n",
       "      <td>39.000000</td>\n",
       "      <td>3.000000</td>\n",
       "      <td>305.000000</td>\n",
       "    </tr>\n",
       "    <tr>\n",
       "      <th>max</th>\n",
       "      <td>3.648724e+07</td>\n",
       "      <td>2.743213e+08</td>\n",
       "      <td>40.913060</td>\n",
       "      <td>-73.712990</td>\n",
       "      <td>10000.000000</td>\n",
       "      <td>365.000000</td>\n",
       "      <td>629.000000</td>\n",
       "      <td>327.000000</td>\n",
       "      <td>365.000000</td>\n",
       "    </tr>\n",
       "  </tbody>\n",
       "</table>\n",
       "</div>"
      ],
      "text/plain": [
       "                 id       host_id      latitude     longitude         price  \\\n",
       "count  3.132900e+04  3.132900e+04  31329.000000  31329.000000  31329.000000   \n",
       "mean   2.101257e+07  8.148038e+07     40.728407    -73.948753    162.122953   \n",
       "std    1.148577e+07  8.674994e+07      0.056557      0.051402    254.533776   \n",
       "min    2.539000e+03  2.571000e+03     40.499790    -74.244420     10.000000   \n",
       "25%    1.169731e+07  8.620509e+06     40.688400    -73.983280     70.000000   \n",
       "50%    2.257006e+07  4.109936e+07     40.723720    -73.954120    112.000000   \n",
       "75%    3.120348e+07  1.452412e+08     40.763040    -73.930150    189.000000   \n",
       "max    3.648724e+07  2.743213e+08     40.913060    -73.712990  10000.000000   \n",
       "\n",
       "       minimum_nights  number_of_reviews  calculated_host_listings_count  \\\n",
       "count    31329.000000       31329.000000                    31329.000000   \n",
       "mean         8.044368          31.852820                       10.342686   \n",
       "std         18.308936          51.642146                       40.720912   \n",
       "min          1.000000           0.000000                        1.000000   \n",
       "25%          2.000000           2.000000                        1.000000   \n",
       "50%          3.000000          10.000000                        1.000000   \n",
       "75%          5.000000          39.000000                        3.000000   \n",
       "max        365.000000         629.000000                      327.000000   \n",
       "\n",
       "       availability_365  \n",
       "count      31329.000000  \n",
       "mean         175.754413  \n",
       "std          126.166114  \n",
       "min            1.000000  \n",
       "25%           55.000000  \n",
       "50%          167.000000  \n",
       "75%          305.000000  \n",
       "max          365.000000  "
      ]
     },
     "execution_count": 23,
     "metadata": {},
     "output_type": "execute_result"
    }
   ],
   "source": [
    "df.describe()"
   ]
  },
  {
   "cell_type": "markdown",
   "id": "42708092-e99c-4c0d-9437-a57c63c8dc11",
   "metadata": {},
   "source": [
    "**Saving Cleaned Dataset**"
   ]
  },
  {
   "cell_type": "code",
   "execution_count": 25,
   "id": "4ad92230-c26a-442a-ba9f-1d05999ded63",
   "metadata": {},
   "outputs": [],
   "source": [
    "df.to_csv(\"Cleaned_Dataset\", index=False)"
   ]
  }
 ],
 "metadata": {
  "kernelspec": {
   "display_name": "Python 3 (ipykernel)",
   "language": "python",
   "name": "python3"
  },
  "language_info": {
   "codemirror_mode": {
    "name": "ipython",
    "version": 3
   },
   "file_extension": ".py",
   "mimetype": "text/x-python",
   "name": "python",
   "nbconvert_exporter": "python",
   "pygments_lexer": "ipython3",
   "version": "3.12.4"
  }
 },
 "nbformat": 4,
 "nbformat_minor": 5
}
